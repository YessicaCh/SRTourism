{
 "cells": [
  {
   "cell_type": "markdown",
   "metadata": {},
   "source": [
    "# Movilens \n"
   ]
  },
  {
   "cell_type": "code",
   "execution_count": 64,
   "metadata": {},
   "outputs": [],
   "source": [
    "\n",
    "import numpy as np\n",
    "import pandas as pd\n",
    "import os "
   ]
  },
  {
   "cell_type": "code",
   "execution_count": 65,
   "metadata": {},
   "outputs": [],
   "source": [
    "def read_dataset(path, names_column): #(path = './model_context_pref.csv'\n",
    "    dataset = pd.read_csv(path,sep=\"\\t\",names=names_column)\n",
    "    return dataset\n",
    "def preprocesing(dataset):\n",
    "    \n",
    "    user_id = dataset.iloc[:, 1:3].values\n",
    "    X = dataset.iloc[:, 3:5].values\n",
    "    Y = dataset.iloc[:, 5].values\n",
    "\n",
    "    return X,Y,user_id"
   ]
  },
  {
   "cell_type": "markdown",
   "metadata": {},
   "source": [
    "# Preprocesing Train Data"
   ]
  },
  {
   "cell_type": "code",
   "execution_count": 66,
   "metadata": {},
   "outputs": [],
   "source": [
    "pathBase =  \"/home/yessica/Documentos/2021/ProyectoTesis/SR/SRTourism/mod_adquisicion_datos/movilens/ml-100k/u1.base\"\n",
    "names_column = ['user','poi','rating','time']\n",
    "df = read_dataset(pathBase,names_column)\n"
   ]
  },
  {
   "cell_type": "code",
   "execution_count": 67,
   "metadata": {},
   "outputs": [],
   "source": [
    "def minmax_norm(df_input):\n",
    "    return (df_input- df_input.min()) / ( df_input.max() - df_input.min())"
   ]
  },
  {
   "cell_type": "code",
   "execution_count": 58,
   "metadata": {},
   "outputs": [],
   "source": [
    "dfN = minmax_norm(df)"
   ]
  },
  {
   "cell_type": "code",
   "execution_count": 68,
   "metadata": {},
   "outputs": [
    {
     "data": {
      "text/html": [
       "<div>\n",
       "<style scoped>\n",
       "    .dataframe tbody tr th:only-of-type {\n",
       "        vertical-align: middle;\n",
       "    }\n",
       "\n",
       "    .dataframe tbody tr th {\n",
       "        vertical-align: top;\n",
       "    }\n",
       "\n",
       "    .dataframe thead th {\n",
       "        text-align: right;\n",
       "    }\n",
       "</style>\n",
       "<table border=\"1\" class=\"dataframe\">\n",
       "  <thead>\n",
       "    <tr style=\"text-align: right;\">\n",
       "      <th></th>\n",
       "      <th>user</th>\n",
       "      <th>poi</th>\n",
       "      <th>rating</th>\n",
       "      <th>time</th>\n",
       "    </tr>\n",
       "  </thead>\n",
       "  <tbody>\n",
       "    <tr>\n",
       "      <th>0</th>\n",
       "      <td>0.0</td>\n",
       "      <td>0.000000</td>\n",
       "      <td>1.00</td>\n",
       "      <td>0.012985</td>\n",
       "    </tr>\n",
       "    <tr>\n",
       "      <th>1</th>\n",
       "      <td>0.0</td>\n",
       "      <td>0.000595</td>\n",
       "      <td>0.50</td>\n",
       "      <td>0.116822</td>\n",
       "    </tr>\n",
       "    <tr>\n",
       "      <th>2</th>\n",
       "      <td>0.0</td>\n",
       "      <td>0.001190</td>\n",
       "      <td>0.75</td>\n",
       "      <td>0.205703</td>\n",
       "    </tr>\n",
       "    <tr>\n",
       "      <th>3</th>\n",
       "      <td>0.0</td>\n",
       "      <td>0.001785</td>\n",
       "      <td>0.50</td>\n",
       "      <td>0.116819</td>\n",
       "    </tr>\n",
       "    <tr>\n",
       "      <th>4</th>\n",
       "      <td>0.0</td>\n",
       "      <td>0.002380</td>\n",
       "      <td>0.50</td>\n",
       "      <td>0.809560</td>\n",
       "    </tr>\n",
       "    <tr>\n",
       "      <th>...</th>\n",
       "      <td>...</td>\n",
       "      <td>...</td>\n",
       "      <td>...</td>\n",
       "      <td>...</td>\n",
       "    </tr>\n",
       "    <tr>\n",
       "      <th>79995</th>\n",
       "      <td>1.0</td>\n",
       "      <td>0.634146</td>\n",
       "      <td>0.25</td>\n",
       "      <td>0.041861</td>\n",
       "    </tr>\n",
       "    <tr>\n",
       "      <th>79996</th>\n",
       "      <td>1.0</td>\n",
       "      <td>0.638311</td>\n",
       "      <td>0.75</td>\n",
       "      <td>0.749682</td>\n",
       "    </tr>\n",
       "    <tr>\n",
       "      <th>79997</th>\n",
       "      <td>1.0</td>\n",
       "      <td>0.706127</td>\n",
       "      <td>0.50</td>\n",
       "      <td>0.749682</td>\n",
       "    </tr>\n",
       "    <tr>\n",
       "      <th>79998</th>\n",
       "      <td>1.0</td>\n",
       "      <td>0.729923</td>\n",
       "      <td>0.50</td>\n",
       "      <td>0.749683</td>\n",
       "    </tr>\n",
       "    <tr>\n",
       "      <th>79999</th>\n",
       "      <td>1.0</td>\n",
       "      <td>0.790601</td>\n",
       "      <td>0.50</td>\n",
       "      <td>0.752495</td>\n",
       "    </tr>\n",
       "  </tbody>\n",
       "</table>\n",
       "<p>80000 rows × 4 columns</p>\n",
       "</div>"
      ],
      "text/plain": [
       "       user       poi  rating      time\n",
       "0       0.0  0.000000    1.00  0.012985\n",
       "1       0.0  0.000595    0.50  0.116822\n",
       "2       0.0  0.001190    0.75  0.205703\n",
       "3       0.0  0.001785    0.50  0.116819\n",
       "4       0.0  0.002380    0.50  0.809560\n",
       "...     ...       ...     ...       ...\n",
       "79995   1.0  0.634146    0.25  0.041861\n",
       "79996   1.0  0.638311    0.75  0.749682\n",
       "79997   1.0  0.706127    0.50  0.749682\n",
       "79998   1.0  0.729923    0.50  0.749683\n",
       "79999   1.0  0.790601    0.50  0.752495\n",
       "\n",
       "[80000 rows x 4 columns]"
      ]
     },
     "execution_count": 68,
     "metadata": {},
     "output_type": "execute_result"
    }
   ],
   "source": [
    "dfN"
   ]
  },
  {
   "cell_type": "code",
   "execution_count": 69,
   "metadata": {},
   "outputs": [],
   "source": [
    "dfN.to_csv('../mod_recomendacion/datasetPropuesta/test_movilensTrain.csv')\n"
   ]
  },
  {
   "cell_type": "markdown",
   "metadata": {},
   "source": [
    "# Preprocesing Test Data"
   ]
  },
  {
   "cell_type": "code",
   "execution_count": 70,
   "metadata": {},
   "outputs": [
    {
     "data": {
      "text/html": [
       "<div>\n",
       "<style scoped>\n",
       "    .dataframe tbody tr th:only-of-type {\n",
       "        vertical-align: middle;\n",
       "    }\n",
       "\n",
       "    .dataframe tbody tr th {\n",
       "        vertical-align: top;\n",
       "    }\n",
       "\n",
       "    .dataframe thead th {\n",
       "        text-align: right;\n",
       "    }\n",
       "</style>\n",
       "<table border=\"1\" class=\"dataframe\">\n",
       "  <thead>\n",
       "    <tr style=\"text-align: right;\">\n",
       "      <th></th>\n",
       "      <th>user</th>\n",
       "      <th>poi</th>\n",
       "      <th>rating</th>\n",
       "      <th>time</th>\n",
       "    </tr>\n",
       "  </thead>\n",
       "  <tbody>\n",
       "    <tr>\n",
       "      <th>0</th>\n",
       "      <td>0.000000</td>\n",
       "      <td>0.003145</td>\n",
       "      <td>1.00</td>\n",
       "      <td>0.684917</td>\n",
       "    </tr>\n",
       "    <tr>\n",
       "      <th>1</th>\n",
       "      <td>0.000000</td>\n",
       "      <td>0.005660</td>\n",
       "      <td>0.50</td>\n",
       "      <td>0.052197</td>\n",
       "    </tr>\n",
       "    <tr>\n",
       "      <th>2</th>\n",
       "      <td>0.000000</td>\n",
       "      <td>0.006918</td>\n",
       "      <td>1.00</td>\n",
       "      <td>0.205802</td>\n",
       "    </tr>\n",
       "    <tr>\n",
       "      <th>3</th>\n",
       "      <td>0.000000</td>\n",
       "      <td>0.008176</td>\n",
       "      <td>1.00</td>\n",
       "      <td>0.012990</td>\n",
       "    </tr>\n",
       "    <tr>\n",
       "      <th>4</th>\n",
       "      <td>0.000000</td>\n",
       "      <td>0.010063</td>\n",
       "      <td>0.50</td>\n",
       "      <td>0.018783</td>\n",
       "    </tr>\n",
       "    <tr>\n",
       "      <th>...</th>\n",
       "      <td>...</td>\n",
       "      <td>...</td>\n",
       "      <td>...</td>\n",
       "      <td>...</td>\n",
       "    </tr>\n",
       "    <tr>\n",
       "      <th>19995</th>\n",
       "      <td>0.991323</td>\n",
       "      <td>0.406918</td>\n",
       "      <td>0.75</td>\n",
       "      <td>0.629073</td>\n",
       "    </tr>\n",
       "    <tr>\n",
       "      <th>19996</th>\n",
       "      <td>0.991323</td>\n",
       "      <td>0.691824</td>\n",
       "      <td>0.75</td>\n",
       "      <td>0.629183</td>\n",
       "    </tr>\n",
       "    <tr>\n",
       "      <th>19997</th>\n",
       "      <td>0.993492</td>\n",
       "      <td>0.586792</td>\n",
       "      <td>0.50</td>\n",
       "      <td>0.260817</td>\n",
       "    </tr>\n",
       "    <tr>\n",
       "      <th>19998</th>\n",
       "      <td>0.995662</td>\n",
       "      <td>0.005660</td>\n",
       "      <td>0.50</td>\n",
       "      <td>0.441312</td>\n",
       "    </tr>\n",
       "    <tr>\n",
       "      <th>19999</th>\n",
       "      <td>1.000000</td>\n",
       "      <td>0.428302</td>\n",
       "      <td>1.00</td>\n",
       "      <td>0.627420</td>\n",
       "    </tr>\n",
       "  </tbody>\n",
       "</table>\n",
       "<p>20000 rows × 4 columns</p>\n",
       "</div>"
      ],
      "text/plain": [
       "           user       poi  rating      time\n",
       "0      0.000000  0.003145    1.00  0.684917\n",
       "1      0.000000  0.005660    0.50  0.052197\n",
       "2      0.000000  0.006918    1.00  0.205802\n",
       "3      0.000000  0.008176    1.00  0.012990\n",
       "4      0.000000  0.010063    0.50  0.018783\n",
       "...         ...       ...     ...       ...\n",
       "19995  0.991323  0.406918    0.75  0.629073\n",
       "19996  0.991323  0.691824    0.75  0.629183\n",
       "19997  0.993492  0.586792    0.50  0.260817\n",
       "19998  0.995662  0.005660    0.50  0.441312\n",
       "19999  1.000000  0.428302    1.00  0.627420\n",
       "\n",
       "[20000 rows x 4 columns]"
      ]
     },
     "execution_count": 70,
     "metadata": {},
     "output_type": "execute_result"
    }
   ],
   "source": [
    "pathBase_ =  \"/home/yessica/Documentos/2021/ProyectoTesis/SR/SRTourism/mod_adquisicion_datos/movilens/ml-100k/u1.test\"\n",
    "names_column = ['user','poi','rating','time']\n",
    "dfTest = read_dataset(pathBase_,names_column)\n",
    "dfTestN = minmax_norm(dfTest)\n",
    "#dfTest.iloc[:,2:-1] = dfTest.iloc[:,2:-1].apply(lambda x: (x-x.mean())/ x.std(), axis=0)\n",
    "dfTestN"
   ]
  },
  {
   "cell_type": "code",
   "execution_count": 71,
   "metadata": {},
   "outputs": [],
   "source": [
    "dfTestN.to_csv('../mod_recomendacion/datasetPropuesta/test_movilensTest.csv')"
   ]
  },
  {
   "cell_type": "code",
   "execution_count": null,
   "metadata": {},
   "outputs": [],
   "source": []
  }
 ],
 "metadata": {
  "kernelspec": {
   "display_name": "Python 3",
   "language": "python",
   "name": "python3"
  },
  "language_info": {
   "codemirror_mode": {
    "name": "ipython",
    "version": 3
   },
   "file_extension": ".py",
   "mimetype": "text/x-python",
   "name": "python",
   "nbconvert_exporter": "python",
   "pygments_lexer": "ipython3",
   "version": "3.8.3"
  }
 },
 "nbformat": 4,
 "nbformat_minor": 4
}
