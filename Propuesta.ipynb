{
 "cells": [
  {
   "cell_type": "markdown",
   "metadata": {},
   "source": [
    "# SR basada de Ontologia - Aprendizaje profundo \n",
    "El SR basado en Tourismo basado en Ontologia  se encuentra implementado en otro lenguaje y se abstrae los datos a traves de archivos .csv donde se guardan los datosluego son usados en esta implementacion.\n",
    "\n"
   ]
  },
  {
   "cell_type": "code",
   "execution_count": 84,
   "metadata": {},
   "outputs": [],
   "source": [
    "\n",
    "import numpy as np\n",
    "import pandas as pd\n",
    "import os \n",
    "\n",
    "from sklearn.preprocessing import LabelEncoder, OneHotEncoder\n",
    "from sklearn.model_selection import train_test_split\n",
    "from sklearn.preprocessing import StandardScaler \n",
    "from tensorflow import keras\n",
    "from tensorflow.keras import layers\n",
    "\n"
   ]
  },
  {
   "cell_type": "markdown",
   "metadata": {},
   "source": [
    "# Preprocesamiento"
   ]
  },
  {
   "cell_type": "code",
   "execution_count": 85,
   "metadata": {},
   "outputs": [],
   "source": [
    "def read_dataset(path = './model_context_pref.csv'):\n",
    "    dataset = pd.read_csv(path)\n",
    "    return dataset\n",
    "def preprocesing(dataset):\n",
    "    \n",
    "    user_id = dataset.iloc[:, 1:3].values\n",
    "    X = dataset.iloc[:, 3:5].values\n",
    "    Y = dataset.iloc[:, 5].values\n",
    "\n",
    "    return X,Y,user_id\n"
   ]
  },
  {
   "cell_type": "markdown",
   "metadata": {},
   "source": [
    "# Arquitectura de Sistema de recomendacion "
   ]
  },
  {
   "cell_type": "code",
   "execution_count": 86,
   "metadata": {},
   "outputs": [],
   "source": [
    "def dnn_etapa2(array_hidden_layers,input_,output): #selected the [128→64→32→16→8] hidden layers\n",
    "    model = keras.Sequential() #model.add(Embedding(4, 8, input_length=32))\n",
    "    model.add(layers.Dense(units = array_hidden_layers[0], kernel_initializer = 'uniform', \n",
    "                           activation = 'relu', input_dim = input_))\n",
    "\n",
    "    for idx in range(1,len(array_hidden_layers)):\n",
    "        model.add(layers.Dense(units = array_hidden_layers[idx] , kernel_initializer = 'uniform', \n",
    "                               activation = 'relu'))\n",
    "\n",
    "    model.add(layers.Dense(units = output, kernel_initializer = 'uniform', activation = 'relu'))\n",
    "\n",
    "    opt = keras.optimizers.Adam(learning_rate= 0.001)\n",
    "    model.compile(loss='mean_squared_error', optimizer=opt) #metrics = ['accuracy']\n",
    "\n",
    "    print(model.summary())\n",
    "    \n",
    "    return model\n",
    "     "
   ]
  },
  {
   "cell_type": "markdown",
   "metadata": {},
   "source": [
    "# Recomendation\n"
   ]
  },
  {
   "cell_type": "code",
   "execution_count": 87,
   "metadata": {},
   "outputs": [],
   "source": [
    "def recomendaciones(y_true,y_pred,user_id_test):\n",
    "    dict_places = {'1p':0, '2p':1, '3p':2, '4p':3, '5p':4, '6p':5,'7p':6, '8p':7,'9p':8,'10p':9, \n",
    "                    '11p':10, '12p':11, '13p':12, '14p':13, '15p':14,'16p':15, '17p':16, '18p':17, '19p':18,'20p':19}\n",
    "    #dict_places = {'p1':0, 'p2':1, 'p3':2, 'p4':3, 'p5':4, 'p6':5,'p7':6, 'p8':7,'p9':8,'p10':9,\n",
    "    #               'p11':10, 'p12':11, 'p13':12, 'p14':13, 'p15':14,'p16':15, 'p17':16, 'p18':17, 'p19':18, 'p20':19}\n",
    "    \n",
    "    N=7\n",
    "    matriz_pred = np.zeros((19, 15))\n",
    "    matriz_true = np.zeros((19, 15))\n",
    "\n",
    "    for i in range(0,y_pred.shape[0]):\n",
    "     \n",
    "        score = y_pred[i][0]  #Se calculo \n",
    "        user  = user_id_test[i][0] #id de usuario \n",
    "        place  = dict_places[user_id_test[i][1]] #id del place \n",
    "        \n",
    "        #print(user)\n",
    "        #print(place)\n",
    "        #print(score)\n",
    "        if type(user)==str:\n",
    "            user = i\n",
    "\n",
    "        matriz_pred[user][place] = score\n",
    "        matriz_true[user][place] = y_true[i]\n",
    "    \n",
    "    data_pred = pd.DataFrame(matriz_pred, columns = dict_places.keys())\n",
    "    data_dict_pred = data_pred.to_dict('records')\n",
    "    \n",
    "    data_true = pd.DataFrame(matriz_true, columns = dict_places.keys())\n",
    "    data_dict_true = data_true.to_dict('records')\n",
    "\n",
    "    array_pred = []\n",
    "    array_true = []\n",
    "\n",
    "    for idx in range(0,len(data_dict_true)):\n",
    "        array1 = data_dict_true[idx]\n",
    "        array2 = data_dict_pred[idx]\n",
    "       \n",
    "        pred_ = sorted(array2.items(), key=lambda item: item[1], reverse=True)\n",
    "        true_ = sorted(array1.items(), key=lambda item: item[1], reverse=True)\n",
    "\n",
    "        array_pred.append(pred_[0:N])\n",
    "        array_true.append(true_[0:N])\n",
    "\n",
    "    return array_pred,array_true\n"
   ]
  },
  {
   "cell_type": "markdown",
   "metadata": {},
   "source": [
    "# Metricas\n"
   ]
  },
  {
   "cell_type": "code",
   "execution_count": 88,
   "metadata": {},
   "outputs": [],
   "source": [
    "#----------METRICAS----------\n",
    "from sklearn.metrics import mean_absolute_error,mean_squared_error\n",
    "from sklearn.metrics import mean_absolute_percentage_error\n",
    "from sklearn.metrics import average_precision_score,precision_score"
   ]
  },
  {
   "cell_type": "code",
   "execution_count": 89,
   "metadata": {},
   "outputs": [],
   "source": [
    "def rel(n):\n",
    "    if n>0.5:\n",
    "        return 1\n",
    "    else:\n",
    "        return 0\n",
    "def precision(y_true,y_pred):\n",
    "\n",
    "    result = y_true-y_pred\n",
    "    print(result)\n",
    "\n",
    "def mean_average_precision(y_pred,y_true):\n",
    "\n",
    "    MAP = []\n",
    "    N_total = len(y_pred)\n",
    "    sumatoria_gen = 0.0\n",
    "\n",
    "    for idx in  range(0,len(y_pred)):\n",
    "        k = 7\n",
    "\n",
    "        usuario_test = y_true[idx]\n",
    "        alfa = 1\n",
    "        array_7_res_true = {}\n",
    "        for i in range(0,k):\n",
    "            array_7_res_true[usuario_test[i][0]] = alfa\n",
    "            alfa = alfa - 0.14\n",
    "\n",
    "        usuario = y_pred[idx]\n",
    "        array_7_res_pred = []\n",
    "\n",
    "        for i in range(0,k):\n",
    "            array_7_res_pred.append(usuario[i][0])\n",
    "        \n",
    "        sumatoria=0.0\n",
    "        for place in array_7_res_pred:\n",
    "            if place in array_7_res_true:\n",
    "                sumatoria = sumatoria +1*array_7_res_true[place]\n",
    "        MAP.append(sumatoria/k)\n",
    "        sumatoria_gen+=sumatoria/k\n",
    "    \n",
    "    MAP_average = sumatoria_gen/N_total\n",
    "\n",
    "    return MAP_average"
   ]
  },
  {
   "cell_type": "code",
   "execution_count": 90,
   "metadata": {},
   "outputs": [],
   "source": [
    "\n",
    "def mean_reciprocal_rank(y_pred,y_true):\n",
    "    sum_total = []\n",
    "    for idx,value in enumerate(y_true):\n",
    "\n",
    "        #Por usuario \n",
    "        array_true = {}\n",
    "        idx = 0\n",
    "        for indx, value in enumerate(value):\n",
    "            place = value[0]\n",
    "            array_true[place] = indx\n",
    "\n",
    "        cont = 0\n",
    "        sumatoria = 0\n",
    "        for id_,value in enumerate(y_pred[idx],1):\n",
    "            place_ = value[0]\n",
    "            if cont<1:\n",
    "                if place_ in  array_true and cont < 1 : \n",
    "                    sumatoria+= 1/id_\n",
    "                    cont+=1\n",
    "            else:\n",
    "                break\n",
    "        sum_total.append(sumatoria)\n",
    "    #print(sum_total)\n",
    "    return (sum(sum_total)/len(sum_total))\n",
    "\n"
   ]
  },
  {
   "cell_type": "code",
   "execution_count": 91,
   "metadata": {},
   "outputs": [],
   "source": [
    "def precision_sr(y_pred,y_true):\n",
    "    sum_total = []\n",
    "    for idx,value in enumerate(y_true):\n",
    "\n",
    "        #Por usuario \n",
    "        array_true = {}\n",
    "        idx = 0\n",
    "        for indx, value in enumerate(value,1):\n",
    "            place = value[0]\n",
    "            if indx<8:\n",
    "                array_true[place] = indx\n",
    "\n",
    "        cont = 0\n",
    "        precision = 0\n",
    "        intersection = 0\n",
    "        for id_,value in enumerate(y_pred[idx],1):\n",
    "            place_ = value[0]\n",
    "            if id_<8:\n",
    "                if place_ in  array_true : \n",
    "                    intersection +=1 \n",
    "                cont+=1\n",
    "\n",
    "        precision+= (intersection/cont)\n",
    "            \n",
    "        sum_total.append(precision)\n",
    "    #print(sum_total)\n",
    "    return (sum(sum_total)/len(sum_total))"
   ]
  },
  {
   "cell_type": "markdown",
   "metadata": {},
   "source": [
    "# Llamada a la arquitectura \n"
   ]
  },
  {
   "cell_type": "code",
   "execution_count": 1,
   "metadata": {},
   "outputs": [],
   "source": [
    "array_hidden_layers = [128,256,512] #64,128 #,32,64[8,16,32,64] \n",
    "batch_size = 512#512-256\n",
    "epochs = 50\n",
    "output = 1\n"
   ]
  },
  {
   "cell_type": "code",
   "execution_count": 2,
   "metadata": {},
   "outputs": [
    {
     "ename": "NameError",
     "evalue": "name 'read_dataset' is not defined",
     "output_type": "error",
     "traceback": [
      "\u001b[0;31m---------------------------------------------------------------------------\u001b[0m",
      "\u001b[0;31mNameError\u001b[0m                                 Traceback (most recent call last)",
      "\u001b[0;32m<ipython-input-2-13b1fc5d3cd8>\u001b[0m in \u001b[0;36m<module>\u001b[0;34m\u001b[0m\n\u001b[1;32m      2\u001b[0m \u001b[0;34m\u001b[0m\u001b[0m\n\u001b[1;32m      3\u001b[0m \u001b[0mpath_train\u001b[0m \u001b[0;34m=\u001b[0m \u001b[0;34m'../mod_recomendacion/datasetPropuesta/train.csv'\u001b[0m\u001b[0;34m\u001b[0m\u001b[0;34m\u001b[0m\u001b[0m\n\u001b[0;32m----> 4\u001b[0;31m \u001b[0mdataset\u001b[0m  \u001b[0;34m=\u001b[0m \u001b[0mread_dataset\u001b[0m\u001b[0;34m(\u001b[0m\u001b[0mpath_train\u001b[0m\u001b[0;34m)\u001b[0m\u001b[0;34m\u001b[0m\u001b[0;34m\u001b[0m\u001b[0m\n\u001b[0m\u001b[1;32m      5\u001b[0m \u001b[0;34m\u001b[0m\u001b[0m\n\u001b[1;32m      6\u001b[0m \u001b[0;31m#print(\"Carga de datos\")\u001b[0m\u001b[0;34m\u001b[0m\u001b[0;34m\u001b[0m\u001b[0;34m\u001b[0m\u001b[0m\n",
      "\u001b[0;31mNameError\u001b[0m: name 'read_dataset' is not defined"
     ]
    }
   ],
   "source": [
    "#Cargar datos de entrenamiento \n",
    "    \n",
    "path_train = '../mod_recomendacion/datasetPropuesta/train.csv'\n",
    "dataset  = read_dataset(path_train)\n",
    "\n",
    "#print(\"Carga de datos\")\n",
    "#print(dataset)\n",
    "#print(\"\\n\")\n",
    "X_train,y_train,user_id = preprocesing(dataset) #X y Y entrenamiento \n",
    "#print(\"X_train ->\",X_train)\n",
    "#print(\"Y_train ->\",y_train)\n",
    "#print(\"user_id\",user_id)\n",
    "\n",
    "#Cargar datos de test\n",
    "path_test = '../mod_recomendacion/datasetPropuesta/test_individual.csv'\n",
    "dataset_test  = read_dataset(path_test)\n",
    "X_test,y_test,user_id_test = preprocesing(dataset_test) #X y Y entrenamiento \n",
    "    \n",
    "model = dnn_etapa2(array_hidden_layers, X_train.shape[1], output)\n",
    "model.fit(X_train, y_train, batch_size = batch_size, epochs = epochs)\n",
    "y_pred = model.predict(X_test)\n",
    "print('y_pred : ',y_pred)"
   ]
  },
  {
   "cell_type": "code",
   "execution_count": 94,
   "metadata": {},
   "outputs": [
    {
     "data": {
      "text/plain": [
       "\"predic_recomendation = {}\\nidx_= 0\\nfor idx in array_pred:\\n    predic_recomendation[idx_] = []\\n    for colidx in idx:\\n        predic_recomendation[idx_].append(colidx[0])\\n    idx_+=1\\ndata_pref_pd = pd.DataFrame.from_dict(predic_recomendation, orient='index')\""
      ]
     },
     "execution_count": 94,
     "metadata": {},
     "output_type": "execute_result"
    }
   ],
   "source": [
    "#array_pred,array_true = recomendaciones(y_test,y_pred,user_id_test)\n",
    "\n",
    "#array_pred\n",
    "\"\"\"predic_recomendation = {}\n",
    "idx_= 0\n",
    "for idx in array_pred:\n",
    "    predic_recomendation[idx_] = []\n",
    "    for colidx in idx:\n",
    "        predic_recomendation[idx_].append(colidx[0])\n",
    "    idx_+=1\n",
    "data_pref_pd = pd.DataFrame.from_dict(predic_recomendation, orient='index')\"\"\"\n",
    "#data_pref_pd\n"
   ]
  },
  {
   "cell_type": "code",
   "execution_count": 97,
   "metadata": {},
   "outputs": [
    {
     "name": "stdout",
     "output_type": "stream",
     "text": [
      "-----------------------------------------------\n",
      "--------------------METRICAS ------------------\n",
      "-----------------------------------------------\n",
      " MAE       :  0.114\n",
      " MSE       :  0.014\n",
      " MAPE      :  0.157\n",
      " MAP       :  0.325\n",
      " MRK       :  0.796\n",
      " Precision :  0.511\n"
     ]
    }
   ],
   "source": [
    "map_ = mean_average_precision(array_pred,array_true)\n",
    "mrk = mean_reciprocal_rank(array_pred,array_true)\n",
    "precision = precision_sr(array_pred,array_true)\n",
    "    \n",
    "    \n",
    "print(\"-----------------------------------------------\")\n",
    "print(\"--------------------METRICAS ------------------\")\n",
    "print(\"-----------------------------------------------\")\n",
    "\n",
    "mae  =  mean_absolute_error(y_test,y_pred)\n",
    "    # Calculation of Mean Squared Error (MSE)\n",
    "mse = mean_squared_error(y_test,y_pred)\n",
    "mape = mean_absolute_percentage_error(y_pred,y_test)\n",
    "\n",
    "    \n",
    "print(\" MAE       : \", round(mae,3))\n",
    "print(\" MSE       : \", round(mse,3))\n",
    "print(\" MAPE      : \", round(mape,3))\n",
    "print(\" MAP       : \", round(map_,3))\n",
    "print(\" MRK       : \", round(mrk,3))\n",
    "print(\" Precision : \", round(precision,3))"
   ]
  },
  {
   "cell_type": "code",
   "execution_count": 12,
   "metadata": {},
   "outputs": [],
   "source": [
    "array_hidden_layers = [64,128,256,512] #64,128 #,32,64[8,16,32,64] \n",
    "batch_size = 512#512-256\n",
    "epochs = 50\n",
    "output = 1\n",
    "\n",
    "\n"
   ]
  },
  {
   "cell_type": "code",
   "execution_count": null,
   "metadata": {},
   "outputs": [],
   "source": []
  },
  {
   "cell_type": "code",
   "execution_count": null,
   "metadata": {},
   "outputs": [],
   "source": []
  }
 ],
 "metadata": {
  "kernelspec": {
   "display_name": "Python 3",
   "language": "python",
   "name": "python3"
  },
  "language_info": {
   "codemirror_mode": {
    "name": "ipython",
    "version": 3
   },
   "file_extension": ".py",
   "mimetype": "text/x-python",
   "name": "python",
   "nbconvert_exporter": "python",
   "pygments_lexer": "ipython3",
   "version": "3.8.3"
  }
 },
 "nbformat": 4,
 "nbformat_minor": 4
}
